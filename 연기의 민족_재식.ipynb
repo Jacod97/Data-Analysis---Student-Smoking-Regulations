{
 "cells": [
  {
   "cell_type": "markdown",
   "metadata": {},
   "source": [
    "# 12월프로젝트"
   ]
  },
  {
   "cell_type": "code",
   "execution_count": 1,
   "metadata": {},
   "outputs": [
    {
     "name": "stdout",
     "output_type": "stream",
     "text": [
      "NanumGothic C:\\Users\\user\\AppData\\Local\\Microsoft\\Windows\\Fonts\\NanumGothicLight.ttf\n",
      "NanumBarunGothic C:\\Users\\user\\AppData\\Local\\Microsoft\\Windows\\Fonts\\NanumBarunGothicLight.ttf\n",
      "HYGothic-Extra C:\\Windows\\Fonts\\H2GTRE.TTF\n",
      "NanumGothic C:\\Users\\user\\AppData\\Local\\Microsoft\\Windows\\Fonts\\NanumGothicExtraBold.ttf\n",
      "Franklin Gothic Heavy C:\\Users\\user\\AppData\\Local\\Microsoft\\Windows\\Fonts\\FRAHVIT.TTF\n",
      "Century Gothic C:\\Windows\\Fonts\\GOTHICB.TTF\n",
      "GothicI C:\\Users\\user\\AppData\\Local\\Microsoft\\Windows\\Fonts\\gothici_0.ttf\n",
      "GothicE C:\\Users\\user\\AppData\\Local\\Microsoft\\Windows\\Fonts\\gothice.ttf\n",
      "Century Gothic C:\\Users\\user\\AppData\\Local\\Microsoft\\Windows\\Fonts\\GOTHICBI.TTF\n",
      "Gothic Round XB C:\\Users\\user\\AppData\\Local\\Microsoft\\Windows\\Fonts\\HMFERG.TTF\n",
      "Century Gothic C:\\Windows\\Fonts\\GOTHICBI.TTF\n",
      "NanumBarunGothic C:\\Users\\user\\AppData\\Local\\Microsoft\\Windows\\Fonts\\NanumBarunGothicBold.ttf\n",
      "Franklin Gothic Heavy C:\\Windows\\Fonts\\FRAHV.TTF\n",
      "Franklin Gothic Demi Cond C:\\Windows\\Fonts\\FRADMCN.TTF\n",
      "MJemokGothic C:\\Users\\user\\AppData\\Local\\Microsoft\\Windows\\Fonts\\MK.TTF\n",
      "Malgun Gothic C:\\Users\\user\\AppData\\Local\\Microsoft\\Windows\\Fonts\\malgun.ttf\n",
      "Century Gothic C:\\Windows\\Fonts\\GOTHIC.TTF\n",
      "Franklin Gothic Book C:\\Users\\user\\AppData\\Local\\Microsoft\\Windows\\Fonts\\FRABK.TTF\n",
      "Malgun Gothic C:\\Windows\\Fonts\\malgun.ttf\n",
      "Copperplate Gothic Light C:\\Windows\\Fonts\\COPRGTL.TTF\n",
      "NanumGothic C:\\Windows\\Fonts\\BOLD.TTF\n",
      "Yu Gothic C:\\Users\\user\\AppData\\Local\\Microsoft\\Windows\\Fonts\\YuGothM.ttc\n",
      "Franklin Gothic Demi Cond C:\\Users\\user\\AppData\\Local\\Microsoft\\Windows\\Fonts\\FRADMCN.TTF\n",
      "Gothic B C:\\Users\\user\\AppData\\Local\\Microsoft\\Windows\\Fonts\\HMFBG.TTF\n",
      "Yu Gothic C:\\Windows\\Fonts\\YuGothM.ttc\n",
      "Franklin Gothic Demi C:\\Users\\user\\AppData\\Local\\Microsoft\\Windows\\Fonts\\FRADM.TTF\n",
      "HYGothic-Bold C:\\Users\\user\\AppData\\Local\\Microsoft\\Windows\\Fonts\\H2GTRB.TTF\n",
      "Gothic XB C:\\Users\\user\\AppData\\Local\\Microsoft\\Windows\\Fonts\\HMFEG.TTF\n",
      "NanumGothic C:\\Users\\user\\AppData\\Local\\Microsoft\\Windows\\Fonts\\NanumGothic.ttf\n",
      "Yu Gothic C:\\Windows\\Fonts\\YuGothB.ttc\n",
      "Yu Gothic C:\\Windows\\Fonts\\YuGothL.ttc\n",
      "MS Gothic C:\\Windows\\Fonts\\msgothic.ttc\n",
      "Showcard Gothic C:\\Users\\user\\AppData\\Local\\Microsoft\\Windows\\Fonts\\SHOWG.TTF\n",
      "MS Gothic C:\\Users\\user\\AppData\\Local\\Microsoft\\Windows\\Fonts\\msgothic.ttc\n",
      "Franklin Gothic Demi C:\\Windows\\Fonts\\FRADM.TTF\n",
      "Franklin Gothic Book C:\\Users\\user\\AppData\\Local\\Microsoft\\Windows\\Fonts\\FRABKIT.TTF\n",
      "HYGothic-Medium C:\\Windows\\Fonts\\H2GTRM.TTF\n",
      "NanumGothic C:\\Users\\user\\AppData\\Local\\Microsoft\\Windows\\Fonts\\NanumGothicBold.ttf\n",
      "Century Gothic C:\\Windows\\Fonts\\GOTHICI.TTF\n",
      "Yu Gothic C:\\Users\\user\\AppData\\Local\\Microsoft\\Windows\\Fonts\\YuGothL.ttc\n",
      "Franklin Gothic Medium C:\\Windows\\Fonts\\framdit.ttf\n",
      "Franklin Gothic Medium Cond C:\\Users\\user\\AppData\\Local\\Microsoft\\Windows\\Fonts\\FRAMDCN.TTF\n",
      "Franklin Gothic Demi C:\\Users\\user\\AppData\\Local\\Microsoft\\Windows\\Fonts\\FRADMIT.TTF\n",
      "Showcard Gothic C:\\Windows\\Fonts\\SHOWG.TTF\n",
      "HYGothic-Medium C:\\Users\\user\\AppData\\Local\\Microsoft\\Windows\\Fonts\\H2GTRM.TTF\n",
      "Century Gothic C:\\Users\\user\\AppData\\Local\\Microsoft\\Windows\\Fonts\\GOTHICI.TTF\n",
      "Yu Gothic C:\\Users\\user\\AppData\\Local\\Microsoft\\Windows\\Fonts\\YuGothB.ttc\n",
      "Franklin Gothic Medium C:\\Users\\user\\AppData\\Local\\Microsoft\\Windows\\Fonts\\framdit.ttf\n",
      "Franklin Gothic Medium C:\\Windows\\Fonts\\framd.ttf\n",
      "Franklin Gothic Heavy C:\\Users\\user\\AppData\\Local\\Microsoft\\Windows\\Fonts\\FRAHV.TTF\n",
      "NanumBarunGothic C:\\Users\\user\\AppData\\Local\\Microsoft\\Windows\\Fonts\\NanumBarunGothicUltraLight.ttf\n",
      "Franklin Gothic Heavy C:\\Windows\\Fonts\\FRAHVIT.TTF\n",
      "Yu Gothic C:\\Windows\\Fonts\\YuGothR.ttc\n",
      "Malgun Gothic C:\\Windows\\Fonts\\malgunsl.ttf\n",
      "NanumGothic C:\\Windows\\Fonts\\EXTRABOLD.TTF\n",
      "HYGothic-Extra C:\\Users\\user\\AppData\\Local\\Microsoft\\Windows\\Fonts\\H2GTRE.TTF\n",
      "Malgun Gothic C:\\Users\\user\\AppData\\Local\\Microsoft\\Windows\\Fonts\\malgunsl.ttf\n",
      "Century Gothic C:\\Users\\user\\AppData\\Local\\Microsoft\\Windows\\Fonts\\GOTHIC.TTF\n",
      "Franklin Gothic Medium Cond C:\\Windows\\Fonts\\FRAMDCN.TTF\n",
      "NanumBarunGothic C:\\Users\\user\\AppData\\Local\\Microsoft\\Windows\\Fonts\\NanumBarunGothic.ttf\n",
      "Franklin Gothic Demi C:\\Windows\\Fonts\\FRADMIT.TTF\n",
      "Franklin Gothic Book C:\\Windows\\Fonts\\FRABK.TTF\n",
      "NanumGothic C:\\Windows\\Fonts\\.TTF\n",
      "GothicG C:\\Users\\user\\AppData\\Local\\Microsoft\\Windows\\Fonts\\gothicg.ttf\n",
      "Malgun Gothic C:\\Users\\user\\AppData\\Local\\Microsoft\\Windows\\Fonts\\malgunbd.ttf\n",
      "Franklin Gothic Book C:\\Windows\\Fonts\\FRABKIT.TTF\n",
      "Copperplate Gothic Bold C:\\Windows\\Fonts\\COPRGTB.TTF\n",
      "Malgun Gothic C:\\Windows\\Fonts\\malgunbd.ttf\n",
      "Yu Gothic C:\\Users\\user\\AppData\\Local\\Microsoft\\Windows\\Fonts\\YuGothR.ttc\n",
      "Franklin Gothic Medium C:\\Users\\user\\AppData\\Local\\Microsoft\\Windows\\Fonts\\framd.ttf\n",
      "Century Gothic C:\\Users\\user\\AppData\\Local\\Microsoft\\Windows\\Fonts\\GOTHICB.TTF\n"
     ]
    }
   ],
   "source": [
    "from matplotlib import font_manager\n",
    "\n",
    "search_font = 'gothic' # 폰트를 검색해 경로와 이름을 출력\n",
    "\n",
    "for font in font_manager.findSystemFonts():\n",
    "    font_info = font_manager.FontProperties(fname=font) #폰트 속성 가져오기\n",
    "    font_name = font_info.get_name() #폰트 이름 가져오기\n",
    "    font_path = font_info.get_file() # 폰트 파일 경로 가져오기\n",
    "    if search_font in font_name.lower(): # 고딕 폰트를 가져옴\n",
    "        print(font_name, font_path)\n",
    "\n",
    "## 폰트 등록하기\n",
    "font_path = \"C:/Users/user/AppData/Local/Microsoft/Windows/Fonts/H2GTRE.TTF\"\n",
    "font_manager.fontManager.addfont(font_path)\n",
    "font_name = font_manager.FontProperties(fname=font_path).get_name()"
   ]
  },
  {
   "cell_type": "code",
   "execution_count": 2,
   "metadata": {},
   "outputs": [],
   "source": [
    "# 일반담배와 전자담배흡연율 추이 불러오기\n",
    "import pandas as pd\n",
    "\n",
    "elect_data = pd.read_csv('../data/질병관리청/액상형전자담배.csv', index_col=0).dropna().reset_index(drop=True)\n",
    "nomal_data = pd.read_csv('../data/질병관리청/일반담배.csv', index_col=0).dropna().reset_index(drop=True)\n",
    "# 전체흡연율만 필요해서 슬라이싱함함\n",
    "nd = nomal_data.iloc[2][2:]\n",
    "ed = elect_data.iloc[2][2:]\n",
    "\n",
    "new_smoke = pd.concat([nd.astype(float),ed.astype(float)],axis=1) # 그래프 2개 합침\n",
    "# 증감률 추이를 보여주기위해 diff, 그것을 누적으로 보여주기위해 cumsum사용\n",
    "new_smoke = new_smoke.diff(axis=0).cumsum() "
   ]
  },
  {
   "cell_type": "code",
   "execution_count": 4,
   "metadata": {},
   "outputs": [
    {
     "data": {
      "text/plain": [
       "<function matplotlib.pyplot.show(close=None, block=None)>"
      ]
     },
     "execution_count": 4,
     "metadata": {},
     "output_type": "execute_result"
    },
    {
     "data": {
      "image/png": "[encoded data removed]",
      "text/plain": [
       "<Figure size 700x500 with 1 Axes>"
      ]
     },
     "metadata": {},
     "output_type": "display_data"
    }
   ],
   "source": [
    "# 흡연율추이 시각화화\n",
    "import matplotlib.pyplot as plt\n",
    "import koreanize_matplotlib\n",
    "\n",
    "new_smoke.plot(kind='bar', color=['skyblue', 'red'],figsize=[7,5])\n",
    "plt.title('흡연율증감')\n",
    "plt.legend(['일반담배', '전자담배'])\n",
    "plt.xticks(rotation=0)\n",
    "plt.yticks(range(-6,6))\n",
    "plt.show"
   ]
  },
  {
   "cell_type": "code",
   "execution_count": 5,
   "metadata": {},
   "outputs": [
    {
     "data": {
      "text/plain": [
       "<function matplotlib.pyplot.show(close=None, block=None)>"
      ]
     },
     "execution_count": 5,
     "metadata": {},
     "output_type": "execute_result"
    },
    {
     "data": {
      "image/png": "[encoded data removed]",
      "text/plain": [
       "<Figure size 1000x500 with 1 Axes>"
      ]
     },
     "metadata": {},
     "output_type": "display_data"
    }
   ],
   "source": [
    "# \n",
    "nomal = pd.DataFrame(nd)\n",
    "nomal.astype(float).plot(kind='bar',figsize=[10,5]).get_legend().remove()\n",
    "plt.title('흡연율(일반담배) 추이')\n",
    "plt.xticks(rotation=0)\n",
    "plt.yticks(range(0,31,5))\n",
    "plt.show"
   ]
  },
  {
   "cell_type": "code",
   "execution_count": 6,
   "metadata": {},
   "outputs": [],
   "source": [
    "# 연도별 구매루트 비율율\n",
    "route = pd.read_csv('../data/여성가족부/전자담배구매루트.csv',index_col=0).dropna().reset_index(drop=True)\n",
    "route.iloc[:,3][2]\n",
    "\n",
    "# 루트별 구입비중 구하기기\n",
    "df = []\n",
    "for i in range(len(route.columns)):\n",
    "    if route.iloc[:,i][2] == \"구입한 적 있음\":\n",
    "        df.append(route.iloc[:,i][0:4:3])\n",
    "df = pd.DataFrame(df)\n",
    "\n",
    "\n",
    "market = df.iloc[:,1][0::4].astype(float)\n",
    "store = df.iloc[:,1][1::4].astype(float)\n",
    "pc = df.iloc[:,1][2::4].astype(float)\n",
    "internet = df.iloc[:,1][3::4].astype(float)\n",
    "\n",
    "import numpy as np\n",
    "\n",
    "arr = np.arange(2016,2021,2) # y축값 저장장"
   ]
  },
  {
   "cell_type": "code",
   "execution_count": 7,
   "metadata": {},
   "outputs": [
    {
     "data": {
      "text/plain": [
       "Text(0.5, 1.0, '전자담배 구매루트 추이')"
      ]
     },
     "execution_count": 7,
     "metadata": {},
     "output_type": "execute_result"
    },
    {
     "data": {
      "image/png": "[encoded data removed]",
      "text/plain": [
       "<Figure size 640x480 with 1 Axes>"
      ]
     },
     "metadata": {},
     "output_type": "display_data"
    }
   ],
   "source": [
    "w = 0.3\n",
    "plt.bar(arr-w,market,width=0.3, alpha=0.5, color='blue', label='편의점')\n",
    "plt.bar(arr,store,width=0.3, alpha=0.5, color='orange', label='전자담배판매점')\n",
    "plt.bar(arr+w,pc,width=0.3, alpha=0.5, color='green',label='pc방 노래방')\n",
    "plt.bar(arr+w+w,internet,width=0.3, alpha=0.5, color='red', label='인터넷')\n",
    "plt.xticks(range(2016,2021,2))\n",
    "# plt.Subplots(figsize=[12,6])\n",
    "plt.legend()\n",
    "plt.title('전자담배 구매루트 추이')"
   ]
  },
  {
   "cell_type": "code",
   "execution_count": 8,
   "metadata": {},
   "outputs": [],
   "source": [
    "import pandas as pd\n",
    "import re \n",
    "import numpy as np\n",
    "from konlpy.tag import Okt\n",
    "\n",
    "wc = pd.read_csv('../data/네이버뉴스크롤링.csv', index_col=0).dropna().reset_index(drop=True)\n",
    "okt = Okt()\n",
    "# desc = wc['description'] \n",
    "title = wc['title']\n",
    "stopwords = []\n",
    "\n",
    "def divied(array):\n",
    "    word_list = []\n",
    "    for review in array.tolist():\n",
    "        edit_review = re.sub('[^0-9a-zA-Z가-힣\\\\s+-]', '', review)\n",
    "        edit_review_pos = okt.pos(edit_review)\n",
    "        sub_list = []\n",
    "\n",
    "        for word, pos in edit_review_pos:\n",
    "            if len(word) < 2 or word in stopwords:\n",
    "                continue\n",
    "            elif pos ==\"Verb\":\n",
    "                sub_list.append(word)\n",
    "        word_list.extend(sub_list)\n",
    "    return word_list\n"
   ]
  },
  {
   "cell_type": "code",
   "execution_count": 9,
   "metadata": {},
   "outputs": [],
   "source": [
    "from collections import Counter\n",
    "from wordcloud import WordCloud\n",
    "\n",
    "\n",
    "def cloud(array):\n",
    "    counter = Counter(divied(array)) #단어의 빈도수를 계산\n",
    "    counter2 = counter.most_common(30) #상위 30개의 단어만 추출\n",
    "    \n",
    "    #워드 클라우드 생성성\n",
    "    wordcloud = WordCloud(font_path, background_color='white', width = 400, height=400,colormap='autumn').generate_from_frequencies(dict(counter2))\n",
    "    \n",
    "    plt.imshow(wordcloud)\n",
    "    plt.axis('off')\n",
    "    return plt.show()\n"
   ]
  },
  {
   "cell_type": "code",
   "execution_count": 10,
   "metadata": {},
   "outputs": [
    {
     "data": {
      "image/png": "[encoded data removed]",
      "text/plain": [
       "<Figure size 640x480 with 1 Axes>"
      ]
     },
     "metadata": {},
     "output_type": "display_data"
    },
    {
     "name": "stdout",
     "output_type": "stream",
     "text": [
      "None\n"
     ]
    }
   ],
   "source": [
    "print(cloud(title))"
   ]
  },
  {
   "cell_type": "code",
   "execution_count": 58,
   "metadata": {},
   "outputs": [],
   "source": [
    "import pandas as pd\n",
    "\n",
    "okt = Okt()\n",
    "# desc = wc['description'] \n",
    "title = wc['title']\n",
    "stopwords = []\n",
    "\n",
    "def divied(array):\n",
    "    word_net = []\n",
    "    for review in array.tolist():\n",
    "        edit_review = re.sub('[^0-9a-zA-Z가-힣\\\\s+-]', '', review)\n",
    "        edit_review_pos = okt.pos(edit_review)\n",
    "        sub_list = []\n",
    "\n",
    "        for word, pos in edit_review_pos:\n",
    "            if len(word) < 2 or word in stopwords:\n",
    "                continue\n",
    "            elif pos ==\"Noun\":\n",
    "                sub_list.append(word)\n",
    "        word_net.append(sub_list)\n",
    "    return word_net"
   ]
  },
  {
   "cell_type": "code",
   "execution_count": 59,
   "metadata": {},
   "outputs": [
    {
     "data": {
      "text/html": [
       "<div>\n",
       "<style scoped>\n",
       "    .dataframe tbody tr th:only-of-type {\n",
       "        vertical-align: middle;\n",
       "    }\n",
       "\n",
       "    .dataframe tbody tr th {\n",
       "        vertical-align: top;\n",
       "    }\n",
       "\n",
       "    .dataframe thead th {\n",
       "        text-align: right;\n",
       "    }\n",
       "</style>\n",
       "<table border=\"1\" class=\"dataframe\">\n",
       "  <thead>\n",
       "    <tr style=\"text-align: right;\">\n",
       "      <th></th>\n",
       "      <th>0</th>\n",
       "      <th>1</th>\n",
       "      <th>2</th>\n",
       "      <th>3</th>\n",
       "      <th>4</th>\n",
       "      <th>5</th>\n",
       "      <th>6</th>\n",
       "      <th>7</th>\n",
       "      <th>8</th>\n",
       "      <th>9</th>\n",
       "      <th>10</th>\n",
       "      <th>11</th>\n",
       "      <th>12</th>\n",
       "    </tr>\n",
       "  </thead>\n",
       "  <tbody>\n",
       "    <tr>\n",
       "      <th>0</th>\n",
       "      <td>코로나</td>\n",
       "      <td>이후</td>\n",
       "      <td>우울증</td>\n",
       "      <td>고등</td>\n",
       "      <td>학력</td>\n",
       "      <td>미혼</td>\n",
       "      <td>흡연</td>\n",
       "      <td>위험</td>\n",
       "      <td>None</td>\n",
       "      <td>None</td>\n",
       "      <td>None</td>\n",
       "      <td>None</td>\n",
       "      <td>None</td>\n",
       "    </tr>\n",
       "    <tr>\n",
       "      <th>1</th>\n",
       "      <td>인니</td>\n",
       "      <td>새해</td>\n",
       "      <td>가치</td>\n",
       "      <td>담배</td>\n",
       "      <td>판매</td>\n",
       "      <td>금지</td>\n",
       "      <td>청소년</td>\n",
       "      <td>흡연</td>\n",
       "      <td>감축</td>\n",
       "      <td>목표</td>\n",
       "      <td>None</td>\n",
       "      <td>None</td>\n",
       "      <td>None</td>\n",
       "    </tr>\n",
       "    <tr>\n",
       "      <th>2</th>\n",
       "      <td>간접흡연</td>\n",
       "      <td>꽁초</td>\n",
       "      <td>젖병</td>\n",
       "      <td>아기</td>\n",
       "      <td>그림</td>\n",
       "      <td>아동학대</td>\n",
       "      <td>None</td>\n",
       "      <td>None</td>\n",
       "      <td>None</td>\n",
       "      <td>None</td>\n",
       "      <td>None</td>\n",
       "      <td>None</td>\n",
       "      <td>None</td>\n",
       "    </tr>\n",
       "    <tr>\n",
       "      <th>3</th>\n",
       "      <td>대마</td>\n",
       "      <td>유통</td>\n",
       "      <td>흡연</td>\n",
       "      <td>남양유업</td>\n",
       "      <td>창업</td>\n",
       "      <td>손자</td>\n",
       "      <td>혐의</td>\n",
       "      <td>인정</td>\n",
       "      <td>None</td>\n",
       "      <td>None</td>\n",
       "      <td>None</td>\n",
       "      <td>None</td>\n",
       "      <td>None</td>\n",
       "    </tr>\n",
       "    <tr>\n",
       "      <th>4</th>\n",
       "      <td>담배</td>\n",
       "      <td>때문</td>\n",
       "      <td>중년</td>\n",
       "      <td>흡연</td>\n",
       "      <td>위험</td>\n",
       "      <td>None</td>\n",
       "      <td>None</td>\n",
       "      <td>None</td>\n",
       "      <td>None</td>\n",
       "      <td>None</td>\n",
       "      <td>None</td>\n",
       "      <td>None</td>\n",
       "      <td>None</td>\n",
       "    </tr>\n",
       "    <tr>\n",
       "      <th>...</th>\n",
       "      <td>...</td>\n",
       "      <td>...</td>\n",
       "      <td>...</td>\n",
       "      <td>...</td>\n",
       "      <td>...</td>\n",
       "      <td>...</td>\n",
       "      <td>...</td>\n",
       "      <td>...</td>\n",
       "      <td>...</td>\n",
       "      <td>...</td>\n",
       "      <td>...</td>\n",
       "      <td>...</td>\n",
       "      <td>...</td>\n",
       "    </tr>\n",
       "    <tr>\n",
       "      <th>1842</th>\n",
       "      <td>연인</td>\n",
       "      <td>폭행</td>\n",
       "      <td>황철순</td>\n",
       "      <td>옥중</td>\n",
       "      <td>사죄</td>\n",
       "      <td>편지</td>\n",
       "      <td>소하</td>\n",
       "      <td>금주</td>\n",
       "      <td>금연</td>\n",
       "      <td>None</td>\n",
       "      <td>None</td>\n",
       "      <td>None</td>\n",
       "      <td>None</td>\n",
       "    </tr>\n",
       "    <tr>\n",
       "      <th>1843</th>\n",
       "      <td>순간</td>\n",
       "      <td>대마</td>\n",
       "      <td>흡연</td>\n",
       "      <td>비투비</td>\n",
       "      <td>출신</td>\n",
       "      <td>정일훈</td>\n",
       "      <td>복귀</td>\n",
       "      <td>None</td>\n",
       "      <td>None</td>\n",
       "      <td>None</td>\n",
       "      <td>None</td>\n",
       "      <td>None</td>\n",
       "      <td>None</td>\n",
       "    </tr>\n",
       "    <tr>\n",
       "      <th>1844</th>\n",
       "      <td>단독</td>\n",
       "      <td>경찰</td>\n",
       "      <td>영호</td>\n",
       "      <td>의원</td>\n",
       "      <td>아들</td>\n",
       "      <td>대마</td>\n",
       "      <td>흡연</td>\n",
       "      <td>혐의</td>\n",
       "      <td>입건</td>\n",
       "      <td>None</td>\n",
       "      <td>None</td>\n",
       "      <td>None</td>\n",
       "      <td>None</td>\n",
       "    </tr>\n",
       "    <tr>\n",
       "      <th>1845</th>\n",
       "      <td>오늘</td>\n",
       "      <td>그래픽</td>\n",
       "      <td>청소년</td>\n",
       "      <td>흡연</td>\n",
       "      <td>음주</td>\n",
       "      <td>마음</td>\n",
       "      <td>건강</td>\n",
       "      <td>None</td>\n",
       "      <td>None</td>\n",
       "      <td>None</td>\n",
       "      <td>None</td>\n",
       "      <td>None</td>\n",
       "      <td>None</td>\n",
       "    </tr>\n",
       "    <tr>\n",
       "      <th>1846</th>\n",
       "      <td>영호</td>\n",
       "      <td>장남</td>\n",
       "      <td>대마</td>\n",
       "      <td>흡연</td>\n",
       "      <td>혐의</td>\n",
       "      <td>고발</td>\n",
       "      <td>경찰</td>\n",
       "      <td>수사</td>\n",
       "      <td>None</td>\n",
       "      <td>None</td>\n",
       "      <td>None</td>\n",
       "      <td>None</td>\n",
       "      <td>None</td>\n",
       "    </tr>\n",
       "  </tbody>\n",
       "</table>\n",
       "<p>1847 rows × 13 columns</p>\n",
       "</div>"
      ],
      "text/plain": [
       "        0    1    2     3   4     5     6     7     8     9     10    11    12\n",
       "0      코로나   이후  우울증    고등  학력    미혼    흡연    위험  None  None  None  None  None\n",
       "1       인니   새해   가치    담배  판매    금지   청소년    흡연    감축    목표  None  None  None\n",
       "2     간접흡연   꽁초   젖병    아기  그림  아동학대  None  None  None  None  None  None  None\n",
       "3       대마   유통   흡연  남양유업  창업    손자    혐의    인정  None  None  None  None  None\n",
       "4       담배   때문   중년    흡연  위험  None  None  None  None  None  None  None  None\n",
       "...    ...  ...  ...   ...  ..   ...   ...   ...   ...   ...   ...   ...   ...\n",
       "1842    연인   폭행  황철순    옥중  사죄    편지    소하    금주    금연  None  None  None  None\n",
       "1843    순간   대마   흡연   비투비  출신   정일훈    복귀  None  None  None  None  None  None\n",
       "1844    단독   경찰   영호    의원  아들    대마    흡연    혐의    입건  None  None  None  None\n",
       "1845    오늘  그래픽  청소년    흡연  음주    마음    건강  None  None  None  None  None  None\n",
       "1846    영호   장남   대마    흡연  혐의    고발    경찰    수사  None  None  None  None  None\n",
       "\n",
       "[1847 rows x 13 columns]"
      ]
     },
     "execution_count": 59,
     "metadata": {},
     "output_type": "execute_result"
    }
   ],
   "source": [
    "pd.DataFrame(divied(title))"
   ]
  },
  {
   "cell_type": "code",
   "execution_count": 61,
   "metadata": {},
   "outputs": [],
   "source": [
    "from apyori import apriori\n",
    "import itertools\n",
    "import numpy as np\n",
    "import matplotlib.pyplot as plt\n",
    "import networkx as nx\n",
    "\n",
    "nsize = None\n",
    "\n",
    "def ori(array):\n",
    "    # 연관된 단어들을 추출\n",
    "    result = list(apriori(divied(array)))\n",
    "    new_data = pd.DataFrame(result)\n",
    "    return new_data.sort_values(by='support', ascending=False)"
   ]
  },
  {
   "cell_type": "code",
   "execution_count": 73,
   "metadata": {},
   "outputs": [
    {
     "data": {
      "text/html": [
       "<div>\n",
       "<style scoped>\n",
       "    .dataframe tbody tr th:only-of-type {\n",
       "        vertical-align: middle;\n",
       "    }\n",
       "\n",
       "    .dataframe tbody tr th {\n",
       "        vertical-align: top;\n",
       "    }\n",
       "\n",
       "    .dataframe thead th {\n",
       "        text-align: right;\n",
       "    }\n",
       "</style>\n",
       "<table border=\"1\" class=\"dataframe\">\n",
       "  <thead>\n",
       "    <tr style=\"text-align: right;\">\n",
       "      <th></th>\n",
       "      <th>items</th>\n",
       "      <th>support</th>\n",
       "      <th>ordered_statistics</th>\n",
       "    </tr>\n",
       "  </thead>\n",
       "  <tbody>\n",
       "    <tr>\n",
       "      <th>3</th>\n",
       "      <td>(흡연)</td>\n",
       "      <td>0.456957</td>\n",
       "      <td>[((), (흡연), 0.45695722793719545, 1.0)]</td>\n",
       "    </tr>\n",
       "    <tr>\n",
       "      <th>1</th>\n",
       "      <td>(담배)</td>\n",
       "      <td>0.133730</td>\n",
       "      <td>[((), (담배), 0.1337303735787764, 1.0)]</td>\n",
       "    </tr>\n",
       "    <tr>\n",
       "      <th>2</th>\n",
       "      <td>(유아인)</td>\n",
       "      <td>0.125068</td>\n",
       "      <td>[((), (유아인), 0.12506767731456417, 1.0)]</td>\n",
       "    </tr>\n",
       "    <tr>\n",
       "      <th>0</th>\n",
       "      <td>(금연)</td>\n",
       "      <td>0.110991</td>\n",
       "      <td>[((), (금연), 0.11099079588521928, 1.0)]</td>\n",
       "    </tr>\n",
       "  </tbody>\n",
       "</table>\n",
       "</div>"
      ],
      "text/plain": [
       "   items   support                       ordered_statistics\n",
       "3   (흡연)  0.456957   [((), (흡연), 0.45695722793719545, 1.0)]\n",
       "1   (담배)  0.133730    [((), (담배), 0.1337303735787764, 1.0)]\n",
       "2  (유아인)  0.125068  [((), (유아인), 0.12506767731456417, 1.0)]\n",
       "0   (금연)  0.110991   [((), (금연), 0.11099079588521928, 1.0)]"
      ]
     },
     "execution_count": 73,
     "metadata": {},
     "output_type": "execute_result"
    }
   ],
   "source": [
    "pd.DataFrame(ori(title))"
   ]
  },
  {
   "cell_type": "code",
   "execution_count": 71,
   "metadata": {},
   "outputs": [],
   "source": [
    "def net(array):\n",
    "    data = ori(array)  # 문제발생 \n",
    "    lengths = []\n",
    "\n",
    "    for item in data['items'].tolist():  # item 항목이 2개 미만을 거르는 작업\n",
    "        lengths.append(len(item))\n",
    "    data['length'] = lengths\n",
    "    new_data2 = data[data['length']>=1]\n",
    "\n",
    "    plt.rc('font', family = 'NanumGothic')\n",
    "\n",
    "    G = nx.Graph()\n",
    "    word_combi = []\n",
    "    for item in new_data2['items'].tolist(): #연관된 단어들을 2개씩 조합하여 리스트에 저장\n",
    "        word_combi.extend(itertools.combinations(item, 2))\n",
    "    G.add_edges_from(word_combi) # 네트워크 그래프에 간선을 추가\n",
    "\n",
    "    pr = nx.pagerank(G) # pagerank를 사용하여 노드의 중요도를 계산하여 딕셔너리 형태로 저장\n",
    "    nsize = np.array(list(pr.values()))\n",
    "    nsize = 2000* (nsize - min(nsize)) / (max(nsize) - min(nsize)) # 노드 크기\n",
    "\n",
    "    lay = nx.kamada_kawai_layout(G) # 노드간 간선을 시각적으로 균형있게 배치치\n",
    "    nx.draw(G, lay, node_size = nsize, with_labels=True, font_size = 10, font_family = 'NanumGothic')\n",
    "    plt.title('담배 네트워크')\n",
    "    plt.show\n",
    "\n",
    "    return None"
   ]
  },
  {
   "cell_type": "code",
   "execution_count": 72,
   "metadata": {},
   "outputs": [
    {
     "ename": "ValueError",
     "evalue": "min() iterable argument is empty",
     "output_type": "error",
     "traceback": [
      "\u001b[1;31m---------------------------------------------------------------------------\u001b[0m",
      "\u001b[1;31mValueError\u001b[0m                                Traceback (most recent call last)",
      "Cell \u001b[1;32mIn[72], line 1\u001b[0m\n\u001b[1;32m----> 1\u001b[0m \u001b[38;5;28mprint\u001b[39m(\u001b[43mnet\u001b[49m\u001b[43m(\u001b[49m\u001b[43mtitle\u001b[49m\u001b[43m)\u001b[49m)\n",
      "Cell \u001b[1;32mIn[71], line 20\u001b[0m, in \u001b[0;36mnet\u001b[1;34m(array)\u001b[0m\n\u001b[0;32m     18\u001b[0m pr \u001b[38;5;241m=\u001b[39m nx\u001b[38;5;241m.\u001b[39mpagerank(G) \u001b[38;5;66;03m# pagerank를 사용하여 노드의 중요도를 계산하여 딕셔너리 형태로 저장\u001b[39;00m\n\u001b[0;32m     19\u001b[0m nsize \u001b[38;5;241m=\u001b[39m np\u001b[38;5;241m.\u001b[39marray(\u001b[38;5;28mlist\u001b[39m(pr\u001b[38;5;241m.\u001b[39mvalues()))\n\u001b[1;32m---> 20\u001b[0m nsize \u001b[38;5;241m=\u001b[39m \u001b[38;5;241m2000\u001b[39m\u001b[38;5;241m*\u001b[39m (nsize \u001b[38;5;241m-\u001b[39m \u001b[38;5;28;43mmin\u001b[39;49m\u001b[43m(\u001b[49m\u001b[43mnsize\u001b[49m\u001b[43m)\u001b[49m) \u001b[38;5;241m/\u001b[39m (\u001b[38;5;28mmax\u001b[39m(nsize) \u001b[38;5;241m-\u001b[39m \u001b[38;5;28mmin\u001b[39m(nsize)) \u001b[38;5;66;03m# 노드 크기\u001b[39;00m\n\u001b[0;32m     22\u001b[0m lay \u001b[38;5;241m=\u001b[39m nx\u001b[38;5;241m.\u001b[39mkamada_kawai_layout(G) \u001b[38;5;66;03m# 노드간 간선을 시각적으로 균형있게 배치치\u001b[39;00m\n\u001b[0;32m     23\u001b[0m nx\u001b[38;5;241m.\u001b[39mdraw(G, lay, node_size \u001b[38;5;241m=\u001b[39m nsize, with_labels\u001b[38;5;241m=\u001b[39m\u001b[38;5;28;01mTrue\u001b[39;00m, font_size \u001b[38;5;241m=\u001b[39m \u001b[38;5;241m10\u001b[39m, font_family \u001b[38;5;241m=\u001b[39m \u001b[38;5;124m'\u001b[39m\u001b[38;5;124mNanumGothic\u001b[39m\u001b[38;5;124m'\u001b[39m)\n",
      "\u001b[1;31mValueError\u001b[0m: min() iterable argument is empty"
     ]
    }
   ],
   "source": [
    "print(net(title))"
   ]
  },
  {
   "cell_type": "code",
   "execution_count": null,
   "metadata": {},
   "outputs": [],
   "source": []
  }
 ],
 "metadata": {
  "kernelspec": {
   "display_name": "Python 3",
   "language": "python",
   "name": "python3"
  },
  "language_info": {
   "codemirror_mode": {
    "name": "ipython",
    "version": 3
   },
   "file_extension": ".py",
   "mimetype": "text/x-python",
   "name": "python",
   "nbconvert_exporter": "python",
   "pygments_lexer": "ipython3",
   "version": "3.13.0"
  }
 },
 "nbformat": 4,
 "nbformat_minor": 2
}
